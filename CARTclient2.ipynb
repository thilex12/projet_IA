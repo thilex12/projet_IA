{
 "cells": [
  {
   "cell_type": "code",
   "execution_count": 8,
   "metadata": {},
   "outputs": [],
   "source": [
    "import numpy as np\n",
    "\n",
    "class CART:\n",
    "    def __init__(self, max_depth=7, min_samples_split=2, random_state=42): #initialisation de l'arbre\n",
    "        self.max_depth = max_depth #attribut de la profondeur max de l'abre (nb max de niveaux de divisions)\n",
    "        self.min_samples_split = min_samples_split #nombre minimum d’échantillons par nœud pour pouvoir faire une division\n",
    "        self.random_state = np.random.RandomState(random_state)\n",
    "        self.feature = None #attribut qui stocke l'indice de la variable choisie pour diviser les données\n",
    "        self.threshold = None #attribut qui stocke la valeur seuil de la carcatéristique choisie pour diviser les données à ce niveau de l'abre\n",
    "        self.left = None #sous-arbre gauche\n",
    "        self.right = None #sous-arbre droit\n",
    "        self.label = None #stocke la valeur prédite à ce noeud de l'abre\n",
    " \n",
    "    def fit(self, X, y): #Entraîne l'arbre avec les données d'entraînement, X=feature, Y=target\n",
    "        self._grow_tree(X, y, depth=0)\n",
    "\n",
    "\n",
    "    def _mse(self, y): #Calcule l'erreur quadratique moyenne (MSE)\n",
    "        return np.mean((y - np.mean(y)) ** 2)\n",
    "\n",
    "    def predict(self, X): #Applique _predict  pour obtenir les prédictions\n",
    "        return np.array([self._predict(x) for x in X])\n",
    "\n",
    "    def _predict(self, x): #Navigue dans l'arbre pour faire une prédiction pour un exemple donné\n",
    "        if self.feature != None:\n",
    "            if x[self.feature] <= self.threshold:\n",
    "                return self.left._predict(x)\n",
    "            else:\n",
    "                return self.right._predict(x)\n",
    "        else:\n",
    "            return self.label\n",
    "        \n",
    "    #def _grow_tree(self, X, y, depth):\n",
    "        #à finir\n",
    "\n",
    "\n",
    "    "
   ]
  }
 ],
 "metadata": {
  "kernelspec": {
   "display_name": "Python 3",
   "language": "python",
   "name": "python3"
  },
  "language_info": {
   "codemirror_mode": {
    "name": "ipython",
    "version": 3
   },
   "file_extension": ".py",
   "mimetype": "text/x-python",
   "name": "python",
   "nbconvert_exporter": "python",
   "pygments_lexer": "ipython3",
   "version": "3.11.9"
  }
 },
 "nbformat": 4,
 "nbformat_minor": 2
}
