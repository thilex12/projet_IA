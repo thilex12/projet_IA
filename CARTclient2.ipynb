{
 "cells": [
  {
   "cell_type": "code",
   "execution_count": 6,
   "metadata": {},
   "outputs": [],
   "source": [
    "import numpy as np\n",
    "\n",
    "class CART:\n",
    "    def __init__(self, max_depth=4): #constructuer de la classe 'CART\n",
    "        self.max_depth = max_depth #attribut de la profondeur max de l'abre (nb max de niveaux de divisions)\n",
    "        self.feature = None #attribut qui stocke l'indice de la variable choisie pour diviser les données\n",
    "        self.threshold = None #attribut qui stocke la valeur seuil de la carcatéristique choisie pour diviser les données à ce niveau de l'abre\n",
    "        self.left = None #sous-arbre gauche\n",
    "        self.right = None #sous-arbre droit\n",
    "        self.label = None #stocke la valeur prédite à ce noeud de l'abre\n",
    "\n",
    " \n",
    "    "
   ]
  }
 ],
 "metadata": {
  "kernelspec": {
   "display_name": "Python 3",
   "language": "python",
   "name": "python3"
  },
  "language_info": {
   "codemirror_mode": {
    "name": "ipython",
    "version": 3
   },
   "file_extension": ".py",
   "mimetype": "text/x-python",
   "name": "python",
   "nbconvert_exporter": "python",
   "pygments_lexer": "ipython3",
   "version": "3.11.9"
  }
 },
 "nbformat": 4,
 "nbformat_minor": 2
}
