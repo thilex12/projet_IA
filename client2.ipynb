{
 "cells": [
  {
   "cell_type": "code",
   "execution_count": 489,
   "id": "510c00fe-ddda-483f-97bd-37a41f028266",
   "metadata": {},
   "outputs": [
    {
     "data": {
      "text/html": [
       "<div>\n",
       "<style scoped>\n",
       "    .dataframe tbody tr th:only-of-type {\n",
       "        vertical-align: middle;\n",
       "    }\n",
       "\n",
       "    .dataframe tbody tr th {\n",
       "        vertical-align: top;\n",
       "    }\n",
       "\n",
       "    .dataframe thead th {\n",
       "        text-align: right;\n",
       "    }\n",
       "</style>\n",
       "<table border=\"1\" class=\"dataframe\">\n",
       "  <thead>\n",
       "    <tr style=\"text-align: right;\">\n",
       "      <th></th>\n",
       "      <th>haut_tot</th>\n",
       "      <th>haut_tronc</th>\n",
       "      <th>tronc_diam</th>\n",
       "      <th>fk_stadedev</th>\n",
       "      <th>age_estim</th>\n",
       "      <th>fk_nomtech</th>\n",
       "      <th>feuillage</th>\n",
       "    </tr>\n",
       "  </thead>\n",
       "  <tbody>\n",
       "    <tr>\n",
       "      <th>0</th>\n",
       "      <td>6.0</td>\n",
       "      <td>2.0</td>\n",
       "      <td>37.0</td>\n",
       "      <td>Jeune</td>\n",
       "      <td>15.0</td>\n",
       "      <td>QUERUB</td>\n",
       "      <td>Feuillu</td>\n",
       "    </tr>\n",
       "    <tr>\n",
       "      <th>1</th>\n",
       "      <td>13.0</td>\n",
       "      <td>1.0</td>\n",
       "      <td>160.0</td>\n",
       "      <td>Adulte</td>\n",
       "      <td>50.0</td>\n",
       "      <td>PINNIGnig</td>\n",
       "      <td>Conifère</td>\n",
       "    </tr>\n",
       "    <tr>\n",
       "      <th>2</th>\n",
       "      <td>12.0</td>\n",
       "      <td>3.0</td>\n",
       "      <td>116.0</td>\n",
       "      <td>Adulte</td>\n",
       "      <td>30.0</td>\n",
       "      <td>ACEPSE</td>\n",
       "      <td>Feuillu</td>\n",
       "    </tr>\n",
       "    <tr>\n",
       "      <th>3</th>\n",
       "      <td>16.0</td>\n",
       "      <td>3.0</td>\n",
       "      <td>150.0</td>\n",
       "      <td>Adulte</td>\n",
       "      <td>50.0</td>\n",
       "      <td>ACEPLA</td>\n",
       "      <td>Feuillu</td>\n",
       "    </tr>\n",
       "    <tr>\n",
       "      <th>4</th>\n",
       "      <td>5.0</td>\n",
       "      <td>2.0</td>\n",
       "      <td>170.0</td>\n",
       "      <td>Adulte</td>\n",
       "      <td>40.0</td>\n",
       "      <td>SALBAB</td>\n",
       "      <td>Feuillu</td>\n",
       "    </tr>\n",
       "  </tbody>\n",
       "</table>\n",
       "</div>"
      ],
      "text/plain": [
       "   haut_tot  haut_tronc  tronc_diam fk_stadedev  age_estim fk_nomtech  \\\n",
       "0       6.0         2.0        37.0       Jeune       15.0     QUERUB   \n",
       "1      13.0         1.0       160.0      Adulte       50.0  PINNIGnig   \n",
       "2      12.0         3.0       116.0      Adulte       30.0     ACEPSE   \n",
       "3      16.0         3.0       150.0      Adulte       50.0     ACEPLA   \n",
       "4       5.0         2.0       170.0      Adulte       40.0     SALBAB   \n",
       "\n",
       "  feuillage  \n",
       "0   Feuillu  \n",
       "1  Conifère  \n",
       "2   Feuillu  \n",
       "3   Feuillu  \n",
       "4   Feuillu  "
      ]
     },
     "execution_count": 489,
     "metadata": {},
     "output_type": "execute_result"
    }
   ],
   "source": [
    "import pandas as pd\n",
    "\n",
    "colonnes_age=[\"haut_tot\", \"haut_tronc\", \"tronc_diam\", \"fk_stadedev\", \"age_estim\", \"fk_nomtech\", \"feuillage\"]\n",
    "\n",
    "file_path=\"Data_Arbre.csv\"\n",
    "\n",
    "df=pd.read_csv(file_path, usecols=colonnes_age)\n",
    "\n",
    "df.head()"
   ]
  },
  {
   "cell_type": "code",
   "execution_count": 490,
   "id": "c95d86ba-820d-459e-8378-b986e26938d0",
   "metadata": {},
   "outputs": [
    {
     "name": "stdout",
     "output_type": "stream",
     "text": [
      "Données après encodage ordinal : \n",
      "   haut_tot  haut_tronc  tronc_diam  fk_stadedev  age_estim  fk_nomtech  \\\n",
      "0       6.0         2.0        37.0          1.0       15.0       185.0   \n",
      "1      13.0         1.0       160.0          0.0       50.0       129.0   \n",
      "2      12.0         3.0       116.0          0.0       30.0        20.0   \n",
      "3      16.0         3.0       150.0          0.0       50.0        15.0   \n",
      "4       5.0         2.0       170.0          0.0       40.0       192.0   \n",
      "\n",
      "   feuillage  \n",
      "0        1.0  \n",
      "1        0.0  \n",
      "2        1.0  \n",
      "3        1.0  \n",
      "4        1.0  \n"
     ]
    }
   ],
   "source": [
    "from sklearn import preprocessing\n",
    "\n",
    "donnees_categorielles_stade = [\"fk_stadedev\"] \n",
    "donnees_categorielles_feuillage = [\"feuillage\"]\n",
    "donnees_categorielles_nomtech = [\"fk_nomtech\"]\n",
    "\n",
    "encoder_stade = preprocessing.OrdinalEncoder()\n",
    "\n",
    "encoder_feuillage = preprocessing.OrdinalEncoder()\n",
    "\n",
    "encoder_nomtech = preprocessing.OrdinalEncoder()\n",
    "\n",
    "df[donnees_categorielles_stade]=encoder_stade.fit_transform(df[donnees_categorielles_stade])\n",
    "df[donnees_categorielles_feuillage]=encoder_feuillage.fit_transform(df[donnees_categorielles_feuillage])\n",
    "df[donnees_categorielles_nomtech]=encoder_nomtech.fit_transform(df[donnees_categorielles_nomtech])\n",
    "\n",
    "\n",
    "\n",
    "print(\"Données après encodage ordinal : \")\n",
    "print(df.head())\n"
   ]
  },
  {
   "cell_type": "code",
   "execution_count": 491,
   "id": "32cfecff-f754-48ae-b261-8b8297fc3d6d",
   "metadata": {},
   "outputs": [
    {
     "name": "stdout",
     "output_type": "stream",
     "text": [
      "Données après normalisation : \n",
      "   haut_tot  haut_tronc  tronc_diam  fk_stadedev  age_estim  fk_nomtech  \\\n",
      "0 -0.920963    -0.46555   -1.148795     1.338157  -0.968413    1.166111   \n",
      "1  0.213100    -1.02441    0.934743    -0.562247   0.822235    0.333985   \n",
      "2  0.051091     0.09331    0.189412    -0.562247  -0.200993   -1.285690   \n",
      "3  0.699128     0.09331    0.765349    -0.562247   0.822235   -1.359988   \n",
      "4 -1.082973    -0.46555    1.104136    -0.562247   0.310621    1.270127   \n",
      "\n",
      "   feuillage  \n",
      "0   0.416219  \n",
      "1  -2.402581  \n",
      "2   0.416219  \n",
      "3   0.416219  \n",
      "4   0.416219  \n"
     ]
    }
   ],
   "source": [
    "from sklearn.preprocessing import StandardScaler\n",
    "\n",
    "colonnes_age_estim = [\"haut_tot\", \"haut_tronc\",\"tronc_diam\", \"fk_stadedev\",\"fk_nomtech\", \"feuillage\"]\n",
    "\n",
    "scaler_input = StandardScaler()\n",
    "scaler_output = StandardScaler()\n",
    "\n",
    "\n",
    "df[colonnes_age_estim] = scaler_input.fit_transform(df[colonnes_age_estim])\n",
    "df['age_estim'] = scaler_output.fit_transform(df['age_estim'].values.reshape(-1, 1))\n",
    "\n",
    "print(\"Données après normalisation : \")\n",
    "print(df.head())"
   ]
  },
  {
   "cell_type": "code",
   "execution_count": 492,
   "id": "79a66c6e",
   "metadata": {},
   "outputs": [
    {
     "name": "stdout",
     "output_type": "stream",
     "text": [
      "[   0    1    2 ... 7406 7407 7408]\n"
     ]
    }
   ],
   "source": [
    "#pour X_test à la fin\n",
    "lenght=np.arange(df.shape[0])\n",
    "print(lenght)"
   ]
  },
  {
   "cell_type": "code",
   "execution_count": 493,
   "id": "cf3818e1",
   "metadata": {},
   "outputs": [
    {
     "name": "stdout",
     "output_type": "stream",
     "text": [
      "Taille de l'ensemble d'entraînement : (5927, 6)\n",
      "Taille de l'ensemble de test : (1482, 6)\n"
     ]
    }
   ],
   "source": [
    "#Division en base train et test\n",
    "from sklearn.model_selection import train_test_split\n",
    "\n",
    "X = df[colonnes_age_estim]\n",
    "y = df['age_estim']\n",
    "\n",
    "X_train, X_test, y_train, y_test, i_train, i_test = train_test_split(X, y, lenght, test_size=0.2,random_state=42)\n",
    "\n",
    "print(\"Taille de l'ensemble d'entraînement :\", X_train.shape)\n",
    "print(\"Taille de l'ensemble de test :\", X_test.shape)"
   ]
  },
  {
   "cell_type": "code",
   "execution_count": 494,
   "id": "6191128e",
   "metadata": {},
   "outputs": [
    {
     "name": "stdout",
     "output_type": "stream",
     "text": [
      "      haut_tot  haut_tronc  tronc_diam  fk_stadedev  age_estim  fk_nomtech  \\\n",
      "7092  1.023146    1.211029    0.121655    -0.562247   0.054814    1.537596   \n",
      "1544 -0.596945   -0.465550   -0.335707    -0.562247  -0.712606   -1.018221   \n",
      "2431  0.537118   -1.024410    0.934743    -0.562247   0.310621   -0.958784   \n",
      "3866 -0.434936   -0.465550    0.680653    -0.562247   0.208298   -1.285690   \n",
      "2549  0.537118    0.093310    0.172473    -0.562247   0.310621    0.378563   \n",
      "...        ...         ...         ...          ...        ...         ...   \n",
      "1488  0.051091    0.093310    0.850046    -0.562247   0.822235    0.333985   \n",
      "1593 -0.434936   -0.465550   -0.420403    -0.562247   0.822235   -1.285690   \n",
      "4139  1.833191    0.093310   -0.081617    -0.562247   1.333848   -1.285690   \n",
      "6203 -0.596945   -0.744980    1.442922    -0.562247  -0.200993   -0.780471   \n",
      "4393 -0.434936   -0.465550    0.341866    -0.562247  -0.200993    0.868923   \n",
      "\n",
      "      feuillage  \n",
      "7092   0.416219  \n",
      "1544   0.416219  \n",
      "2431   0.416219  \n",
      "3866   0.416219  \n",
      "2549   0.416219  \n",
      "...         ...  \n",
      "1488  -2.402581  \n",
      "1593   0.416219  \n",
      "4139   0.416219  \n",
      "6203   0.416219  \n",
      "4393   0.416219  \n",
      "\n",
      "[1482 rows x 7 columns]\n"
     ]
    }
   ],
   "source": [
    "#pour X_test à la fin\n",
    "df2=df\n",
    "df2=df2.iloc[i_test]\n",
    "print(df2)"
   ]
  },
  {
   "cell_type": "code",
   "execution_count": 495,
   "id": "13ae39b8",
   "metadata": {},
   "outputs": [
    {
     "name": "stdout",
     "output_type": "stream",
     "text": [
      "Meilleurs paramètres trouvés par GridSearchCV:\n",
      "{'max_depth': 20, 'max_leaf_nodes': 150, 'max_samples': 0.8, 'min_samples_split': 2, 'n_estimators': 300}\n",
      "Meilleur score de validation croisée:\n",
      "0.8032493959592459\n"
     ]
    }
   ],
   "source": [
    "#GridSearch Random Forest\n",
    "from sklearn.model_selection import GridSearchCV\n",
    "\n",
    "grid_param = {\n",
    " 'n_estimators': [10, 20, 50, 300],\n",
    " 'max_depth': [5, 10, 20],\n",
    " 'max_leaf_nodes': [10, 20, 50, 150],\n",
    " 'max_samples': [0.1, 0.5, 0.8, 1],\n",
    " 'min_samples_split': [2,3]}\n",
    "\n",
    "random_forest = RandomForestRegressor(random_state=42 )\n",
    "\n",
    "grid_search = GridSearchCV(random_forest, grid_param, cv = 5, n_jobs = -1)\n",
    "grid_search.fit(X_train, y_train)\n",
    "\n",
    "print(\"Meilleurs paramètres trouvés par GridSearchCV:\")\n",
    "print(grid_search.best_params_)\n",
    "\n",
    "print(\"Meilleur score de validation croisée:\")\n",
    "print(grid_search.best_score_)\n",
    "\n"
   ]
  },
  {
   "cell_type": "code",
   "execution_count": 505,
   "id": "8bf980ad",
   "metadata": {},
   "outputs": [
    {
     "name": "stdout",
     "output_type": "stream",
     "text": [
      "Temps d'exécution pour l'apprentissage: 1.80 secondes\n",
      "R2 score :  0.7821805678111212\n",
      "RMSE: 0.46632362348856327\n",
      "Mean Absolute Error :  0.2972374182903215\n",
      "MSE :  0.2174577218235033\n",
      "CROSS VAL:  0.7264096122899644\n"
     ]
    }
   ],
   "source": [
    "#Random Forest\n",
    "from sklearn.ensemble import RandomForestRegressor\n",
    "import time\n",
    "from sklearn.metrics import r2_score, mean_squared_error, mean_absolute_error\n",
    "import numpy as np\n",
    "from sklearn.model_selection import cross_val_score\n",
    "\n",
    "\n",
    "\n",
    "time_avant_apprentissage = time.time()\n",
    "\n",
    "random_forest1 = RandomForestRegressor(n_estimators=300, random_state=42, max_depth= 20, max_leaf_nodes= 150, min_samples_split = 3, max_samples= 0.8 )\n",
    "random_forest1.fit(X_train, y_train)\n",
    "\n",
    "time_apres_apprentissage = time.time()\n",
    "\n",
    "temps_exe = time_apres_apprentissage - time_avant_apprentissage\n",
    "print(\"Temps d'exécution pour l'apprentissage: {:.2f} secondes\".format(temps_exe))\n",
    "\n",
    "\n",
    "prediction=random_forest1.predict(X_test)\n",
    "prediction2=scaler_output.inverse_transform(prediction)\n",
    "#print(\"10 premières prédictions de Random Forest: \", prediction2[:10])\n",
    "\n",
    "\n",
    "#Métriques d'évaluation\n",
    "coef_determination=r2_score(y_test, prediction)\n",
    "print(\"R2 score : \", coef_determination)\n",
    "\n",
    "RMSE = np.sqrt(mean_squared_error(y_test, prediction))\n",
    "print(\"RMSE:\", RMSE)\n",
    "\n",
    "MAE = mean_absolute_error(y_test, prediction)\n",
    "print(\"Mean Absolute Error : \", MAE)\n",
    "\n",
    "MSE = mean_squared_error(y_test,prediction)\n",
    "print(\"MSE : \", MSE)\n",
    "\n",
    "cross_val_random = cross_val_score(random_forest1,X_test,y_test, cv=5).mean()\n",
    "print(\"CROSS VAL: \", cross_val_random)\n"
   ]
  },
  {
   "cell_type": "code",
   "execution_count": 409,
   "id": "2497f36a",
   "metadata": {},
   "outputs": [
    {
     "name": "stdout",
     "output_type": "stream",
     "text": [
      "Meilleurs paramètres trouvés par GridSearchCV:\n",
      "{'max_depth': 10, 'min_samples_leaf': 4, 'min_samples_split': 2}\n",
      "Meilleur score de validation croisée:\n",
      "0.7533315400785119\n"
     ]
    }
   ],
   "source": [
    "#GridSearch DecisionTreeRegressor\n",
    "\n",
    "from sklearn.model_selection import GridSearchCV\n",
    "\n",
    "grid_tree_regress = {\n",
    " 'max_depth': [5,6,7,8,9,10],\n",
    " 'min_samples_leaf': [2,3,4,5],\n",
    " 'min_samples_split': [2,3,4]}\n",
    "\n",
    "model_decision_tree = DecisionTreeRegressor(random_state=42 )\n",
    "\n",
    "grid_search_tree = GridSearchCV(model_decision_tree, grid_tree_regress, cv = 5, n_jobs = -1)\n",
    "grid_search_tree.fit(X_train, y_train)\n",
    "\n",
    "print(\"Meilleurs paramètres trouvés par GridSearchCV:\")\n",
    "print(grid_search_tree.best_params_)\n",
    "\n",
    "print(\"Meilleur score de validation croisée:\")\n",
    "print(grid_search_tree.best_score_)\n",
    "\n",
    "\n",
    "\n"
   ]
  },
  {
   "cell_type": "code",
   "execution_count": 410,
   "id": "32d30d92",
   "metadata": {},
   "outputs": [
    {
     "name": "stdout",
     "output_type": "stream",
     "text": [
      "Temps d'exécution pour l'apprentissage: 0.01 secondes\n",
      "R2 score :  0.720259140514496\n",
      "RMSE: 0.5284660089011385\n",
      "Mean Absolute Error :  0.33771831884827264\n",
      "MSE :  0.27927632256389817\n",
      "CROSS VAL:  0.664785371657202\n"
     ]
    }
   ],
   "source": [
    "#DecisionTreeRegressor\n",
    "from sklearn.tree import DecisionTreeRegressor\n",
    "\n",
    "\n",
    "time_avant_apprentissage_tree = time.time()\n",
    "\n",
    "model_decision_tree1 = DecisionTreeRegressor(random_state = 42, max_depth = 7, min_samples_leaf = 3, min_samples_split = 2 )\n",
    "model_decision_tree1.fit(X_train, y_train)\n",
    "\n",
    "time_apres_apprentissage_tree = time.time()\n",
    "\n",
    "temps_exe_tree = time_apres_apprentissage_tree - time_avant_apprentissage_tree\n",
    "print(\"Temps d'exécution pour l'apprentissage: {:.2f} secondes\".format(temps_exe_tree))\n",
    "\n",
    "prediction_decision_tree = model_decision_tree1.predict(X_test)\n",
    "\n",
    "\n",
    "#Métriques d'évaluation\n",
    "coef_determination_tree=r2_score(y_test, prediction_decision_tree)\n",
    "print(\"R2 score : \", coef_determination_tree)\n",
    "\n",
    "RMSE_tree = np.sqrt(mean_squared_error(y_test, prediction_decision_tree))\n",
    "print(\"RMSE:\", RMSE_tree)\n",
    "\n",
    "MAE_tree = mean_absolute_error(y_test, prediction_decision_tree)\n",
    "print(\"Mean Absolute Error : \", MAE_tree)\n",
    "\n",
    "MSE_tree = mean_squared_error(y_test, prediction_decision_tree)\n",
    "print(\"MSE : \", MSE_tree)\n",
    "\n",
    "cross_val_tree = cross_val_score(model_decision_tree1,X_test,y_test, cv=5).mean()\n",
    "print(\"CROSS VAL: \", cross_val_tree)"
   ]
  },
  {
   "cell_type": "code",
   "execution_count": 411,
   "id": "218dd016",
   "metadata": {},
   "outputs": [
    {
     "name": "stdout",
     "output_type": "stream",
     "text": [
      "Meilleurs paramètres trouvés par GridSearchCV:\n",
      "{'C': 10, 'epsilon': 0.2, 'gamma': 'scale', 'kernel': 'rbf'}\n",
      "Meilleur score de validation croisée:\n",
      "0.7692707467054483\n"
     ]
    }
   ],
   "source": [
    "#GridSearch SVR\n",
    "\n",
    "from sklearn.model_selection import GridSearchCV\n",
    "\n",
    "grid_svr = {\n",
    "    'kernel': ['linear', 'rbf'],\n",
    "    'C': [5, 10, 15],\n",
    "    'gamma': ['scale', 'auto'],\n",
    "    'epsilon': [0.1, 0.2, 0.3,0.4]}\n",
    "\n",
    "svr_model = SVR()\n",
    "\n",
    "grid_search_svr = GridSearchCV(svr_model, grid_svr,cv = 5, n_jobs = -1)\n",
    "grid_search_svr.fit(X_train, y_train)\n",
    "\n",
    "print(\"Meilleurs paramètres trouvés par GridSearchCV:\")\n",
    "print(grid_search_svr.best_params_)\n",
    "\n",
    "print(\"Meilleur score de validation croisée:\")\n",
    "print(grid_search_svr.best_score_)\n",
    "\n"
   ]
  },
  {
   "cell_type": "code",
   "execution_count": 413,
   "id": "588ff75f",
   "metadata": {},
   "outputs": [
    {
     "name": "stdout",
     "output_type": "stream",
     "text": [
      "Temps d'exécution pour l'apprentissage: 2.36 secondes\n",
      "R2 score :  0.7573051038153036\n",
      "RMSE: 0.4922315285416724\n",
      "Mean Absolute Error :  0.331897070009983\n",
      "MSE :  0.24229187769047128\n",
      "CROSS VAL:  0.6919350145287788\n"
     ]
    }
   ],
   "source": [
    "#Support Vector Regression\n",
    "from sklearn.svm import SVR\n",
    "\n",
    "time_avant_apprentissage_SVR = time.time()\n",
    "\n",
    "svr_model1 = SVR(kernel='rbf', gamma='auto', epsilon=0.2, C=10) #Radial Basis Function\n",
    "svr_model1.fit(X_train, y_train)\n",
    "\n",
    "time_apres_apprentissage_SVR = time.time()\n",
    "\n",
    "temps_exe_SVR = time_apres_apprentissage_SVR - time_avant_apprentissage_SVR\n",
    "print(\"Temps d'exécution pour l'apprentissage: {:.2f} secondes\".format(temps_exe_SVR))\n",
    "\n",
    "prediction_SVR = svr_model1.predict(X_test)\n",
    "prediction_SVR2=scaler_output.inverse_transform(prediction_SVR)\n",
    "\n",
    "#Métriques d'évaluation\n",
    "coef_determination_SVR=r2_score(y_test, prediction_SVR)\n",
    "print(\"R2 score : \", coef_determination_SVR)\n",
    "\n",
    "RMSE_SVR = np.sqrt(mean_squared_error(y_test, prediction_SVR))\n",
    "print(\"RMSE:\", RMSE_SVR)\n",
    "\n",
    "MAE_SVR = mean_absolute_error(y_test, prediction_SVR)\n",
    "print(\"Mean Absolute Error : \", MAE_SVR)\n",
    "\n",
    "MSE_SVR = mean_squared_error(y_test, prediction_SVR)\n",
    "print(\"MSE : \", MSE_SVR)\n",
    "\n",
    "cross_val_SVR = cross_val_score(svr_model1,X_test,y_test, cv=5).mean()\n",
    "print(\"CROSS VAL: \", cross_val_SVR)"
   ]
  },
  {
   "cell_type": "code",
   "execution_count": 414,
   "id": "0583ae3c",
   "metadata": {},
   "outputs": [
    {
     "name": "stdout",
     "output_type": "stream",
     "text": [
      "Meilleurs paramètres trouvés par GridSearchCV:\n",
      "{'activation': 'relu', 'alpha': 0.001, 'hidden_layer_sizes': (100, 100), 'learning_rate': 'adaptive', 'solver': 'adam'}\n",
      "Meilleur score de validation croisée:\n",
      "0.783920110892218\n"
     ]
    }
   ],
   "source": [
    "#GridSearch MLP\n",
    "\n",
    "from sklearn.model_selection import GridSearchCV\n",
    "\n",
    "grid_mlp = {\n",
    "    'hidden_layer_sizes': [(50,), (100,), (50, 50), (100, 100)],  \n",
    "    'activation': ['relu', 'tanh'],  \n",
    "    'solver': ['adam', 'sgd'],  \n",
    "    'alpha': [0.0001, 0.001],  \n",
    "    'learning_rate': ['constant', 'adaptive']  \n",
    "}\n",
    "\n",
    "mlp_model = MLPRegressor()\n",
    "\n",
    "grid_search_mlp = GridSearchCV(mlp_model, grid_mlp,cv = 5, n_jobs = -1)\n",
    "grid_search_mlp.fit(X_train, y_train)\n",
    "\n",
    "print(\"Meilleurs paramètres trouvés par GridSearchCV:\")\n",
    "print(grid_search_mlp.best_params_)\n",
    "\n",
    "print(\"Meilleur score de validation croisée:\")\n",
    "print(grid_search_mlp.best_score_)\n"
   ]
  },
  {
   "cell_type": "code",
   "execution_count": 415,
   "id": "823c79ae",
   "metadata": {},
   "outputs": [
    {
     "name": "stdout",
     "output_type": "stream",
     "text": [
      "Temps d'exécution pour l'apprentissage: 5.62 secondes\n",
      "R2 score :  0.7579338810300538\n",
      "RMSE: 0.4915934749582005\n",
      "Mean Absolute Error :  0.31938461542663327\n",
      "MSE :  0.24166414462147892\n",
      "CROSS VAL:  0.6855774349881772\n"
     ]
    }
   ],
   "source": [
    "\n",
    "#MLPRegressor\n",
    "from sklearn.neural_network import MLPRegressor\n",
    "\n",
    "time_avant_apprentissage_MLP = time.time()\n",
    "\n",
    "MLP = MLPRegressor(activation= 'relu', alpha= 0.001, hidden_layer_sizes= (50, 50), learning_rate= 'adaptive', solver='adam', max_iter=500, random_state=42)\n",
    "MLP.fit(X_train, y_train)\n",
    "\n",
    "time_apres_apprentissage_MLP = time.time()\n",
    "\n",
    "temps_exe_MLP = time_apres_apprentissage_MLP - time_avant_apprentissage_MLP\n",
    "print(\"Temps d'exécution pour l'apprentissage: {:.2f} secondes\".format(temps_exe_MLP))\n",
    "\n",
    "prediction_MLP = MLP.predict(X_test)\n",
    "\n",
    "#Métriques d'évaluation\n",
    "coef_determination_MLP=r2_score(y_test, prediction_MLP)\n",
    "print(\"R2 score : \", coef_determination_MLP)\n",
    "\n",
    "RMSE_MLP = np.sqrt(mean_squared_error(y_test, prediction_MLP))\n",
    "print(\"RMSE:\", RMSE_MLP)\n",
    "\n",
    "MAE_MLP = mean_absolute_error(y_test, prediction_MLP)\n",
    "print(\"Mean Absolute Error : \", MAE_MLP)\n",
    "\n",
    "MSE_MLP = mean_squared_error(y_test, prediction_MLP)\n",
    "print(\"MSE : \", MSE_MLP)\n",
    "\n",
    "cross_val_MLP = cross_val_score(MLP,X_test,y_test, cv=5).mean()\n",
    "print(\"CROSS VAL: \", cross_val_MLP)"
   ]
  },
  {
   "cell_type": "code",
   "execution_count": 497,
   "id": "50d95cd8",
   "metadata": {},
   "outputs": [],
   "source": [
    "import pickle\n",
    "params_config = { \"modelIA\": random_forest1, \"encoder_feuillage\": encoder_feuillage , \"encoder_stade\": encoder_stade , \"encoder_nomtech\": encoder_nomtech, \"scaler_input\": scaler_input, \"scaler_output\": scaler_output }\n",
    "\n",
    "pickle.dump( params_config, open( \"besoin2_config.pkl\", \"wb\" ) )\n"
   ]
  },
  {
   "cell_type": "code",
   "execution_count": 498,
   "id": "90a75bb2",
   "metadata": {},
   "outputs": [],
   "source": [
    "json_df2 = df2.to_json(\"data.json\", orient=\"records\")"
   ]
  },
  {
   "cell_type": "code",
   "execution_count": 527,
   "id": "c1e43e29",
   "metadata": {},
   "outputs": [],
   "source": [
    "### SCRIPT"
   ]
  },
  {
   "cell_type": "code",
   "execution_count": 499,
   "id": "235488ff",
   "metadata": {},
   "outputs": [],
   "source": [
    "import pickle\n",
    "import pandas as pd\n",
    "\n",
    "\n",
    "def func_besoin2(json_df2,res_path):\n",
    "    X_test=pd.read_json(json_df2)\n",
    "#    print(\"test:\",X_test.head(3))\n",
    "\n",
    "    X_test = X_test.drop(\"age_estim\", axis = 1) #on ne veut pas \"age_estim\" pour notre prédiction\n",
    "    var_pickle=pickle.load(open( \"besoin2_config.pkl\", \"rb\" ) )\n",
    "    age_estimes_normalized = var_pickle['modelIA'].predict(X_test)\n",
    "    age_estimes = var_pickle['scaler_output'].inverse_transform(age_estimes_normalized.reshape(-1, 1))\n",
    "    age_estimes_data = pd.DataFrame(age_estimes)\n",
    "    \n",
    "    age_estimes_data.to_json(res_path)\n",
    "    \n"
   ]
  },
  {
   "cell_type": "code",
   "execution_count": 500,
   "id": "c5ac1ac3",
   "metadata": {},
   "outputs": [],
   "source": [
    "func_besoin2(\"data.json\",\"res.json\") #res.json "
   ]
  },
  {
   "cell_type": "code",
   "execution_count": 448,
   "id": "82cf3a6d",
   "metadata": {},
   "outputs": [],
   "source": [
    "#import pandas as pd \n",
    "\n",
    "#def write_json(df,path):\n",
    "#    df.to_json(path) #ecrit un dataframe en json\n",
    "    \n",
    "#def read_json(path):\n",
    "#    return pd.read_json(path)\n",
    "\n",
    "#def csv_to_json(file_path,json_path):\n",
    "#    df=pd.read_csv(file_path)\n",
    "#    return write_json(df,json_path)\n",
    "\n",
    "#df_json = read_json('data.json')"
   ]
  },
  {
   "cell_type": "code",
   "execution_count": null,
   "id": "42579e7b",
   "metadata": {},
   "outputs": [],
   "source": []
  }
 ],
 "metadata": {
  "kernelspec": {
   "display_name": "Python 3",
   "language": "python",
   "name": "python3"
  },
  "language_info": {
   "codemirror_mode": {
    "name": "ipython",
    "version": 3
   },
   "file_extension": ".py",
   "mimetype": "text/x-python",
   "name": "python",
   "nbconvert_exporter": "python",
   "pygments_lexer": "ipython3",
   "version": "3.8.8"
  }
 },
 "nbformat": 4,
 "nbformat_minor": 5
}
