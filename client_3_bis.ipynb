{
 "cells": [
  {
   "cell_type": "code",
   "execution_count": 17,
   "metadata": {},
   "outputs": [],
   "source": [
    "import pandas as pd\n",
    "from sklearn.preprocessing import OrdinalEncoder\n",
    "from sklearn.model_selection import train_test_split,GridSearchCV,cross_val_score,cross_val_predict\n",
    "from sklearn.ensemble import RandomForestClassifier\n",
    "from sklearn.metrics import accuracy_score\n",
    "from sklearn import feature_selection\n",
    "from scipy.stats import chi2_contingency\n",
    "from sklearn.metrics import confusion_matrix,precision_score,recall_score,f1_score,precision_recall_curve\n",
    "import numpy as np"
   ]
  },
  {
   "cell_type": "code",
   "execution_count": 30,
   "metadata": {},
   "outputs": [],
   "source": [
    "data_prof = pd.read_csv('Data_Arbre.csv')"
   ]
  },
  {
   "cell_type": "code",
   "execution_count": 31,
   "metadata": {},
   "outputs": [
    {
     "data": {
      "text/plain": [
       "fk_arb_etat\n",
       "0    7244\n",
       "1     165\n",
       "Name: count, dtype: int64"
      ]
     },
     "execution_count": 31,
     "metadata": {},
     "output_type": "execute_result"
    }
   ],
   "source": [
    "cols = [\"fk_arb_etat\",\"tronc_diam\",\"haut_tot\",\"fk_stadedev\",\"age_estim\", \"clc_quartier\", \"feuillage\", \"fk_port\", \"fk_nomtech\"]\n",
    "data = data_prof[cols]\n",
    "\n",
    "data.loc[data[\"fk_arb_etat\"] == \"Essouché\", \"fk_arb_etat\"] = 1\n",
    "data.loc[data[\"fk_arb_etat\"] != 1, \"fk_arb_etat\"] = 0\n",
    "data.fk_arb_etat = data.fk_arb_etat.astype(int)\n",
    "# data.fk_arb_etat.value_counts()"
   ]
  },
  {
   "cell_type": "code",
   "execution_count": 26,
   "metadata": {},
   "outputs": [
    {
     "name": "stderr",
     "output_type": "stream",
     "text": [
      "C:\\Users\\thile\\AppData\\Local\\Temp\\ipykernel_11432\\1937204942.py:7: SettingWithCopyWarning: \n",
      "A value is trying to be set on a copy of a slice from a DataFrame.\n",
      "Try using .loc[row_indexer,col_indexer] = value instead\n",
      "\n",
      "See the caveats in the documentation: https://pandas.pydata.org/pandas-docs/stable/user_guide/indexing.html#returning-a-view-versus-a-copy\n",
      "  data[lst_col] = encoder.fit_transform(temp)\n"
     ]
    }
   ],
   "source": [
    "#Encodage\n",
    "encoder = OrdinalEncoder()\n",
    "lst_col = ['fk_stadedev', 'clc_quartier', 'feuillage', 'fk_port', 'fk_nomtech']\n",
    "\n",
    "temp = data[lst_col]\n",
    "\n",
    "data[lst_col] = encoder.fit_transform(temp)"
   ]
  },
  {
   "cell_type": "code",
   "execution_count": 27,
   "metadata": {},
   "outputs": [],
   "source": [
    "X_data = data.drop(columns=[\"fk_arb_etat\"])\n",
    "Y_data = data[\"fk_arb_etat\"]\n",
    "\n",
    "X_train, X_test, Y_train, Y_test = train_test_split(X_data, Y_data, test_size=0.2, random_state=42)\n",
    "# X_train, X_test, Y_val, Y_test = val_test_split(X_data, Y_data, test_size=0.2, random_state=42)"
   ]
  },
  {
   "cell_type": "code",
   "execution_count": 35,
   "metadata": {},
   "outputs": [],
   "source": [
    "rndforest = RandomForestClassifier(n_estimators=100, random_state=42)\n",
    "rndforest.fit(X_train, Y_train)\n",
    "gsearch = GridSearchCV(estimator = rndforest, param_grid = {'n_estimators':[i*25 for i in range(1,20)]}, cv=5, n_jobs=-1)\n",
    "best_model = gsearch.fit(X_train, Y_train)"
   ]
  },
  {
   "cell_type": "code",
   "execution_count": 36,
   "metadata": {},
   "outputs": [
    {
     "name": "stdout",
     "output_type": "stream",
     "text": [
      "RandomForestClassifier(n_estimators=300, random_state=42)\n"
     ]
    }
   ],
   "source": [
    "print(gsearch.best_estimator_)"
   ]
  },
  {
   "cell_type": "code",
   "execution_count": 37,
   "metadata": {},
   "outputs": [],
   "source": [
    "score = cross_val_score(best_model, X_train, Y_train, cv=5)"
   ]
  },
  {
   "cell_type": "code",
   "execution_count": null,
   "metadata": {},
   "outputs": [],
   "source": [
    "print(np.mean(score))"
   ]
  }
 ],
 "metadata": {
  "kernelspec": {
   "display_name": "Python 3",
   "language": "python",
   "name": "python3"
  },
  "language_info": {
   "codemirror_mode": {
    "name": "ipython",
    "version": 3
   },
   "file_extension": ".py",
   "mimetype": "text/x-python",
   "name": "python",
   "nbconvert_exporter": "python",
   "pygments_lexer": "ipython3",
   "version": "3.12.3"
  }
 },
 "nbformat": 4,
 "nbformat_minor": 2
}
