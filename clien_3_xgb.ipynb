{
 "cells": [
  {
   "cell_type": "code",
   "execution_count": 1,
   "metadata": {},
   "outputs": [],
   "source": [
    "import pandas as pd\n",
    "from sklearn.preprocessing import OrdinalEncoder\n",
    "from sklearn.model_selection import train_test_split,GridSearchCV,cross_val_score,cross_val_predict\n",
    "from sklearn.ensemble import RandomForestClassifier\n",
    "from sklearn.metrics import accuracy_score,ConfusionMatrixDisplay\n",
    "from sklearn import feature_selection\n",
    "from scipy.stats import chi2_contingency\n",
    "from sklearn.metrics import confusion_matrix,precision_score,recall_score,f1_score,precision_recall_curve\n",
    "from sklearn.feature_selection import SelectFromModel\n",
    "from sklearn.datasets import make_classification\n",
    "from imblearn.over_sampling import SMOTE\n",
    "import pickle as pk\n",
    "import numpy as np"
   ]
  },
  {
   "cell_type": "code",
   "execution_count": null,
   "metadata": {},
   "outputs": [],
   "source": [
    "data_prof = pd.read_csv('Data_Arbre.csv')\n",
    "data_debase = pd.read_csv('Patrimoine_Arbore.csv', encoding='latin1')"
   ]
  },
  {
   "cell_type": "code",
   "execution_count": null,
   "metadata": {},
   "outputs": [],
   "source": [
    "cols = [\"fk_arb_etat\",\"tronc_diam\",\"haut_tot\",\"fk_stadedev\",\"age_estim\", \"clc_quartier\", \"feuillage\", \"fk_port\", \"fk_nomtech\"]\n",
    "data = data_prof[cols]\n",
    "\n",
    "# index = data[(data[\"fk_arb_etat\"] == \"Essouché\") | (data[\"fk_arb_etat\"] == \"Non essouché\")]\n",
    "index = data[(data[\"fk_arb_etat\"] == \"SUPPRIMÉ\") | (data[\"fk_arb_etat\"] == \"ABATTU\") | (data[\"fk_arb_etat\"] == \"EN PLACE\") | (data[\"fk_arb_etat\"] == \"REMPLACÉ\")].index\n",
    "data.drop(index, inplace=True)\n",
    "\n",
    "data.loc[data[\"fk_arb_etat\"] == \"Essouché\", \"fk_arb_etat\"] = 1\n",
    "data.loc[data[\"fk_arb_etat\"] == \"Non essouché\", \"fk_arb_etat\"] = 0\n",
    "\n",
    "# data.loc[data[\"fk_arb_etat\"] != 1, \"fk_arb_etat\"] = 0\n",
    "data.fk_arb_etat = data.fk_arb_etat.astype(int)\n",
    "# data.fk_arb_etat.value_counts()"
   ]
  },
  {
   "cell_type": "code",
   "execution_count": null,
   "metadata": {},
   "outputs": [],
   "source": [
    "#Encodage\n",
    "#Get dummies de pandas encoder en hot one\n",
    "encoder = OrdinalEncoder()\n",
    "lst_col = ['fk_stadedev', 'clc_quartier', 'feuillage', 'fk_port', 'fk_nomtech']\n",
    "\n",
    "temp = data[lst_col]\n",
    "\n",
    "data[lst_col] = encoder.fit_transform(temp)"
   ]
  },
  {
   "cell_type": "code",
   "execution_count": null,
   "metadata": {},
   "outputs": [],
   "source": [
    "X_data = data.drop(columns=[\"fk_arb_etat\"])\n",
    "Y_data = data[\"fk_arb_etat\"]\n",
    "\n",
    "X_train, X_test, Y_train, Y_test = train_test_split(X_data, Y_data, test_size=0.2, random_state=42, stratify=Y_data)"
   ]
  },
  {
   "cell_type": "code",
   "execution_count": null,
   "metadata": {},
   "outputs": [],
   "source": []
  },
  {
   "cell_type": "code",
   "execution_count": null,
   "metadata": {},
   "outputs": [],
   "source": [
    "forest_feature = RandomForestClassifier(n_estimators=300, n_jobs=-1, random_state=42)\n",
    "forest_feature.fit(X_train, Y_train)"
   ]
  },
  {
   "cell_type": "code",
   "execution_count": null,
   "metadata": {},
   "outputs": [],
   "source": [
    "# Extract feature importances\n",
    "importances = forest_feature.feature_importances_\n",
    "\n",
    "cols_lst_feature = [\"tronc_diam\",\"haut_tot\",\"fk_stadedev\",\"age_estim\", \"clc_quartier\", \"feuillage\", \"fk_port\", \"fk_nomtech\"]\n",
    "\n",
    "feature_names = data[cols_lst_feature].columns\n",
    "feature_importance_df = pd.DataFrame({'Feature': feature_names, 'Importance': importances})"
   ]
  },
  {
   "cell_type": "code",
   "execution_count": null,
   "metadata": {},
   "outputs": [],
   "source": [
    "# Rank features by importance\n",
    "feature_importance_df = feature_importance_df.sort_values(by='Importance', ascending=False)\n",
    "print(feature_importance_df)"
   ]
  },
  {
   "cell_type": "code",
   "execution_count": null,
   "metadata": {},
   "outputs": [],
   "source": [
    "# Select top N features (example selecting top 10 features)\n",
    "top_features = feature_importance_df['Feature'][:5].values\n",
    "X_train_selected = X_train[top_features]\n",
    "X_test_selected = X_test[top_features]"
   ]
  },
  {
   "cell_type": "code",
   "execution_count": null,
   "metadata": {},
   "outputs": [],
   "source": [
    "featured_model = RandomForestClassifier(n_estimators=300, n_jobs=-1, random_state=42)\n",
    "featured_model.fit(X_train_selected, Y_train)"
   ]
  },
  {
   "cell_type": "code",
   "execution_count": null,
   "metadata": {},
   "outputs": [],
   "source": [
    "import matplotlib.pyplot as plt\n",
    "classes = cross_val_predict(featured_model, X_train_selected, Y_train, cv=3, n_jobs=-1)\n",
    "# print(classes)\n",
    "matrice = confusion_matrix(Y_train, classes, normalize='true')\n",
    "\n",
    "print(matrice)\n",
    "plt.matshow(matrice,cmap=plt.cm.gray)"
   ]
  },
  {
   "cell_type": "code",
   "execution_count": null,
   "metadata": {},
   "outputs": [],
   "source": [
    "# sm = SMOTE(random_state=42, n_jobs=-1, sampling_strategy=0.4)\n",
    "sm = SMOTE(random_state=42, n_jobs=-1)\n",
    "X_smote, Y_smote = sm.fit_resample(X_train_selected, Y_train)"
   ]
  },
  {
   "cell_type": "code",
   "execution_count": null,
   "metadata": {},
   "outputs": [],
   "source": [
    "smoted_model = RandomForestClassifier(n_estimators=300, n_jobs=-1, random_state=42)\n",
    "smoted_model.fit(X_smote, Y_smote)"
   ]
  },
  {
   "cell_type": "code",
   "execution_count": null,
   "metadata": {},
   "outputs": [],
   "source": [
    "classes = cross_val_predict(smoted_model, X_smote, Y_smote, cv=3, n_jobs=-1)\n",
    "# print(classes)\n",
    "matrice = confusion_matrix(Y_smote, classes, normalize='true')\n",
    "\n",
    "print(matrice)\n",
    "plt.matshow(matrice,cmap=plt.cm.gray)"
   ]
  },
  {
   "cell_type": "code",
   "execution_count": null,
   "metadata": {},
   "outputs": [],
   "source": [
    "# score = cross_val_score(smoted_model, X_test, Y_test, cv=5, n_jobs=-1)\n",
    "# print(np.mean(score))\n",
    "y_predicted = smoted_model.predict(X_test_selected)\n",
    "score = accuracy_score(Y_test, y_predicted)\n",
    "\n",
    "print(format(score,'.4f'))"
   ]
  },
  {
   "cell_type": "code",
   "execution_count": null,
   "metadata": {},
   "outputs": [],
   "source": [
    "confusion_matrix(Y_test, y_predicted, normalize='true')"
   ]
  }
 ],
 "metadata": {
  "kernelspec": {
   "display_name": "Python 3",
   "language": "python",
   "name": "python3"
  },
  "language_info": {
   "codemirror_mode": {
    "name": "ipython",
    "version": 3
   },
   "file_extension": ".py",
   "mimetype": "text/x-python",
   "name": "python",
   "nbconvert_exporter": "python",
   "pygments_lexer": "ipython3",
   "version": "3.12.3"
  }
 },
 "nbformat": 4,
 "nbformat_minor": 2
}
